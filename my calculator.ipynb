{
 "cells": [
  {
   "cell_type": "markdown",
   "id": "cb119ce9",
   "metadata": {},
   "source": [
    "# TKINTER CALCULATOR PROJECT"
   ]
  },
  {
   "cell_type": "code",
   "execution_count": 10,
   "id": "6ee2af9d",
   "metadata": {},
   "outputs": [],
   "source": [
    "from tkinter import *\n",
    "window = Tk()\n",
    "window.title('My Calculator')\n",
    "window.geometry('200x200')\n",
    "\n",
    "equation = \"\"\n",
    "\n",
    "def show(value):\n",
    "    global equation\n",
    "    equation += value\n",
    "    label1.config(text=equation)\n",
    "    \n",
    "    \n",
    "def clear():\n",
    "    global equation\n",
    "    equation = \"\"\n",
    "    label1.config(text=equation)\n",
    "    \n",
    "def calculate():\n",
    "    global equation\n",
    "    result =\"\"\n",
    "    if equation != \"\":\n",
    "        try:\n",
    "            result = eval(equation)\n",
    "        except:\n",
    "            result = \"error\"\n",
    "            equation = \"\"\n",
    "    label1.config(text=result)               \n",
    "\n",
    " \n",
    "label1 = Label(window,width =25,height =2)\n",
    "label1.pack()\n",
    "\n",
    "Button(window,text =\"7\",width = 5, height =1, command = lambda: show(\"7\")).place(x = 5, y = 50)\n",
    "Button(window,text =\"8\",width = 5, height =1, command = lambda: show(\"8\")).place(x = 50, y = 50)\n",
    "Button(window,text =\"9\",width = 5, height =1, command = lambda: show(\"9\")).place(x = 100, y = 50)\n",
    "Button(window,text =\"+\",width = 5, height =1, command = lambda: show(\"+\")).place(x = 150, y = 50)\n",
    "\n",
    "Button(window,text =\"4\",width = 5, height =1, command = lambda: show(\"4\")).place(x = 5, y = 90)\n",
    "Button(window,text =\"5\",width = 5, height =1, command = lambda: show(\"5\")).place(x = 50, y = 90)\n",
    "Button(window,text =\"6\",width = 5, height =1, command = lambda: show(\"6\")).place(x = 100, y = 90)\n",
    "Button(window,text =\"-\",width = 5, height =1, command = lambda: show(\"-\")).place(x = 150, y = 90)\n",
    "\n",
    "Button(window,text =\"3\",width = 5, height =1, command = lambda: show(\"3\")).place(x = 5, y = 135)\n",
    "Button(window,text =\"2\",width = 5, height =1, command = lambda: show(\"2\")).place(x = 50, y = 135)\n",
    "Button(window,text =\"1\",width = 5, height =1, command = lambda: show(\"1\")).place(x = 100, y = 135)\n",
    "Button(window,text =\"*\",width = 5, height =1, command = lambda: show(\"*\")).place(x = 150, y = 135)\n",
    "\n",
    "Button(window,text =\"0\",width = 5, height =1, command = lambda: show(\"0\")).place(x = 5, y = 175)\n",
    "Button(window,text =\"c\",width = 5, height =1, command = lambda: clear()).place(x = 50, y = 175)\n",
    "Button(window,text =\"=\",width = 5, height =1, command = lambda: calculate).place(x = 100, y = 175)\n",
    "Button(window,text =\"/\",width = 5, height =1, command = lambda: show(\"/\")).place(x = 150, y = 175)\n",
    "\n",
    "\n",
    "window.mainloop()\n"
   ]
  },
  {
   "cell_type": "code",
   "execution_count": null,
   "id": "7aab9c9e",
   "metadata": {},
   "outputs": [],
   "source": []
  },
  {
   "cell_type": "code",
   "execution_count": null,
   "id": "6ce7f42c",
   "metadata": {},
   "outputs": [],
   "source": []
  },
  {
   "cell_type": "code",
   "execution_count": null,
   "id": "cdb46af2",
   "metadata": {},
   "outputs": [],
   "source": []
  }
 ],
 "metadata": {
  "kernelspec": {
   "display_name": "Python 3 (ipykernel)",
   "language": "python",
   "name": "python3"
  },
  "language_info": {
   "codemirror_mode": {
    "name": "ipython",
    "version": 3
   },
   "file_extension": ".py",
   "mimetype": "text/x-python",
   "name": "python",
   "nbconvert_exporter": "python",
   "pygments_lexer": "ipython3",
   "version": "3.11.5"
  }
 },
 "nbformat": 4,
 "nbformat_minor": 5
}
