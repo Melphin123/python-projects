{
 "cells": [
  {
   "cell_type": "code",
   "execution_count": 1,
   "id": "81fdea03",
   "metadata": {},
   "outputs": [],
   "source": [
    "board = [\" \",\" \",\" \",\n",
    "      \" \",\" \",\" \",\n",
    "      \" \",\" \",\" \"]"
   ]
  },
  {
   "cell_type": "code",
   "execution_count": 2,
   "id": "766368b5",
   "metadata": {},
   "outputs": [
    {
     "data": {
      "text/plain": [
       "[' ', ' ', ' ', ' ', ' ', ' ', ' ', ' ', ' ']"
      ]
     },
     "execution_count": 2,
     "metadata": {},
     "output_type": "execute_result"
    }
   ],
   "source": [
    "board"
   ]
  },
  {
   "cell_type": "code",
   "execution_count": 3,
   "id": "29feb255",
   "metadata": {},
   "outputs": [],
   "source": [
    "def print_board():\n",
    "    print(board [0] + \" | \" + board [1] + \" | \" + board [2])\n",
    "    print('---------')\n",
    "    print(board [3] + \" | \" + board [4] + \" | \" + board [5])\n",
    "    print('---------')\n",
    "    print(board [6] + \" | \" + board [7] + \" | \" + board [8])"
   ]
  },
  {
   "cell_type": "code",
   "execution_count": 4,
   "id": "7970511c",
   "metadata": {},
   "outputs": [
    {
     "name": "stdout",
     "output_type": "stream",
     "text": [
      "  |   |  \n",
      "---------\n",
      "  |   |  \n",
      "---------\n",
      "  |   |  \n"
     ]
    }
   ],
   "source": [
    "print_board()"
   ]
  },
  {
   "cell_type": "code",
   "execution_count": 5,
   "id": "a2dfe608",
   "metadata": {},
   "outputs": [],
   "source": [
    "def check_win(player):\n",
    "    if board[0] == board[1] == board[2] == player or \\\n",
    "       board[3] == board[4] == board[5] == player or \\\n",
    "        board[6] == board[7] == board[8] == player: \n",
    "        return True\n",
    "    if board[0] == board[3] == board[6] == player or \\\n",
    "       board[1] == board[4] == board[7] == player or \\\n",
    "        board[2] == board[5] == board[8] == player:\n",
    "        return True\n",
    "    if board[0] == board[4] == board[8] == player or \\\n",
    "       board[2] == board[4] == board[6] == player:\n",
    "        return True\n",
    "    else:\n",
    "        return False"
   ]
  },
  {
   "cell_type": "code",
   "execution_count": 6,
   "id": "61699f05",
   "metadata": {},
   "outputs": [],
   "source": [
    "current_player = 'X'"
   ]
  },
  {
   "cell_type": "code",
   "execution_count": 7,
   "id": "de6f8c6a",
   "metadata": {},
   "outputs": [
    {
     "name": "stdout",
     "output_type": "stream",
     "text": [
      "  |   |  \n",
      "---------\n",
      "  |   |  \n",
      "---------\n",
      "  |   |  \n",
      "Enter the number:5\n",
      "  |   |  \n",
      "---------\n",
      "  | X |  \n",
      "---------\n",
      "  |   |  \n",
      "Enter the number:1\n",
      "O |   |  \n",
      "---------\n",
      "  | X |  \n",
      "---------\n",
      "  |   |  \n",
      "Enter the number:9\n",
      "O |   |  \n",
      "---------\n",
      "  | X |  \n",
      "---------\n",
      "  |   | X\n",
      "Enter the number:2\n",
      "O | O |  \n",
      "---------\n",
      "  | X |  \n",
      "---------\n",
      "  |   | X\n",
      "Enter the number:3\n",
      "O | O | X\n",
      "---------\n",
      "  | X |  \n",
      "---------\n",
      "  |   | X\n",
      "Enter the number:6\n",
      "O | O | X\n",
      "---------\n",
      "  | X | O\n",
      "---------\n",
      "  |   | X\n",
      "Enter the number:4\n",
      "O | O | X\n",
      "---------\n",
      "X | X | O\n",
      "---------\n",
      "  |   | X\n",
      "Enter the number:8\n",
      "O | O | X\n",
      "---------\n",
      "X | X | O\n",
      "---------\n",
      "  | O | X\n",
      "Enter the number:7\n",
      "O | O | X\n",
      "---------\n",
      "X | X | O\n",
      "---------\n",
      "X | O | X\n",
      "X wins!\n"
     ]
    }
   ],
   "source": [
    "while True:\n",
    "    print_board()\n",
    "    move = input('Enter the number:')\n",
    "    while move not in '123456789':\n",
    "        move = input('Enter the number:')\n",
    "    move = int(move) -1\n",
    "    if board[move] != ' ':\n",
    "        print('This position is occupied. Choose another position.')\n",
    "        continue\n",
    "    board[move] = current_player\n",
    "    if check_win(current_player):\n",
    "        board[move] = current_player\n",
    "        print_board()\n",
    "        print(f\"{current_player} wins!\")\n",
    "        break\n",
    "    if \" \" not in board:\n",
    "        print_board()\n",
    "        print('It is a Tie')\n",
    "        break\n",
    "    if current_player == 'X':\n",
    "        current_player = 'O'\n",
    "    else:\n",
    "        current_player = 'X'\n",
    "        "
   ]
  },
  {
   "cell_type": "code",
   "execution_count": null,
   "id": "94548693",
   "metadata": {},
   "outputs": [],
   "source": []
  }
 ],
 "metadata": {
  "kernelspec": {
   "display_name": "Python 3 (ipykernel)",
   "language": "python",
   "name": "python3"
  },
  "language_info": {
   "codemirror_mode": {
    "name": "ipython",
    "version": 3
   },
   "file_extension": ".py",
   "mimetype": "text/x-python",
   "name": "python",
   "nbconvert_exporter": "python",
   "pygments_lexer": "ipython3",
   "version": "3.11.5"
  }
 },
 "nbformat": 4,
 "nbformat_minor": 5
}
